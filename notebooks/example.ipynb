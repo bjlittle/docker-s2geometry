{
 "cells": [
  {
   "cell_type": "code",
   "execution_count": null,
   "metadata": {},
   "outputs": [],
   "source": [
    "%matplotlib notebook"
   ]
  },
  {
   "cell_type": "code",
   "execution_count": null,
   "metadata": {},
   "outputs": [],
   "source": [
    "import cartopy.crs as ccrs\n",
    "import cartopy.io.img_tiles as cimgt\n",
    "import matplotlib.pyplot as plt\n",
    "from s2 import S2Cell, S2LatLng, S2LatLngRect, S2RegionCoverer\n",
    "from shapely.geometry import Polygon"
   ]
  },
  {
   "cell_type": "code",
   "execution_count": null,
   "metadata": {},
   "outputs": [],
   "source": [
    "proj = cimgt.GoogleTiles()\n",
    "plt.figure(figsize=(5, 4), dpi=200)\n",
    "ax = plt.axes(projection=proj.crs)\n",
    "ax.add_image(proj, 17)\n",
    "ax.set_extent([-3.478665, -3.471724, 50.726045, 50.728911])\n",
    "\n",
    "lat0, lon0 = 50.726771, -3.476471\n",
    "lat1, lon1 = 50.728089, -3.473832\n",
    "\n",
    "bbox = Polygon([(lon0, lat0), (lon0, lat1), (lon1, lat1), (lon1, lat0)])\n",
    "\n",
    "region_rect = S2LatLngRect(\n",
    "        S2LatLng.FromDegrees(lon0, lat0),\n",
    "        S2LatLng.FromDegrees(lon1, lat1))\n",
    "\n",
    "coverer = S2RegionCoverer()\n",
    "coverer.set_min_level(4)\n",
    "coverer.set_max_level(18)\n",
    "coverer.set_max_cells(10)\n",
    "covering = coverer.GetCovering(region_rect)\n",
    "\n",
    "geoms = []\n",
    "for cellid in covering:\n",
    "    new_cell = S2Cell(cellid)\n",
    "    vertices = []\n",
    "    for i in range(0, 4):\n",
    "        vertex = new_cell.GetVertex(i)\n",
    "        latlng = S2LatLng(vertex)\n",
    "        vertices.append((latlng.lat().degrees(),\n",
    "                         latlng.lng().degrees()))\n",
    "    geo = Polygon(vertices)\n",
    "    geoms.append(geo)\n",
    "\n",
    "print(\"Total Geometries: {}\".format(len(geoms)))\n",
    "\n",
    "pc = ccrs.PlateCarree()\n",
    "ax.add_geometries([bbox], pc, facecolor=(0, 1, 0, .2), edgecolor=(0, 0, 0, 1))\n",
    "ax.add_geometries(geoms, pc, facecolor='coral', edgecolor='black', alpha=0.4)\n",
    "\n",
    "plt.show()"
   ]
  },
  {
   "cell_type": "code",
   "execution_count": null,
   "metadata": {},
   "outputs": [],
   "source": []
  }
 ],
 "metadata": {
  "kernelspec": {
   "display_name": "Python 3",
   "language": "python",
   "name": "python3"
  },
  "language_info": {
   "codemirror_mode": {
    "name": "ipython",
    "version": 3
   },
   "file_extension": ".py",
   "mimetype": "text/x-python",
   "name": "python",
   "nbconvert_exporter": "python",
   "pygments_lexer": "ipython3",
   "version": "3.6.9"
  }
 },
 "nbformat": 4,
 "nbformat_minor": 4
}
