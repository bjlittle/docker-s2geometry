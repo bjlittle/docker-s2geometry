{
 "cells": [
  {
   "cell_type": "markdown",
   "metadata": {},
   "source": [
    "# SWIG Python-C++ google/s2geometry bindings"
   ]
  },
  {
   "cell_type": "code",
   "execution_count": null,
   "metadata": {},
   "outputs": [],
   "source": [
    "%matplotlib inline"
   ]
  },
  {
   "cell_type": "code",
   "execution_count": null,
   "metadata": {},
   "outputs": [],
   "source": [
    "import cartopy.crs as ccrs\n",
    "import cartopy.io.img_tiles as cimgt\n",
    "from ipywidgets import Checkbox, IntSlider, interactive\n",
    "import matplotlib.pyplot as plt\n",
    "from s2 import S2Cell, S2LatLng, S2LatLngRect, S2RegionCoverer\n",
    "from shapely.geometry import Polygon"
   ]
  },
  {
   "cell_type": "code",
   "execution_count": null,
   "metadata": {},
   "outputs": [],
   "source": [
    "def plot(min_level, max_level, max_cells, show_bbox=True):\n",
    "\n",
    "    plt.figure(figsize=(4, 3), dpi=200)\n",
    "\n",
    "    proj = cimgt.GoogleTiles()\n",
    "    ax = plt.axes(projection=proj.crs)\n",
    "    ax.add_image(proj, 17)\n",
    "\n",
    "    # cartopy extent order is (x0, x1, y0, y1) or (lon0, lon1, lat0, lat1)\n",
    "    ax.set_extent([-3.478665, -3.471724, 50.726045, 50.728911])\n",
    "\n",
    "    # our bounding box of interest\n",
    "    lat0, lon0 = 50.726771, -3.476471\n",
    "    lat1, lon1 = 50.728089, -3.473832\n",
    "\n",
    "    # shapely order is (x, y) or (lon, lat)\n",
    "    bbox = Polygon([(lon0, lat0), (lon0, lat1),\n",
    "                    (lon1, lat1), (lon1, lat0)])\n",
    "\n",
    "    # s2 order is (y, x) or (lat, lon)\n",
    "    region_rect = S2LatLngRect(\n",
    "        S2LatLng.FromDegrees(lat0, lon0),\n",
    "        S2LatLng.FromDegrees(lat1, lon1))\n",
    "\n",
    "    coverer = S2RegionCoverer()\n",
    "    coverer.set_min_level(min_level)\n",
    "    coverer.set_max_level(max_level)\n",
    "    coverer.set_max_cells(max_cells)\n",
    "    covering = coverer.GetCovering(region_rect)\n",
    "\n",
    "    geoms = []\n",
    "    for cellid in covering:\n",
    "        new_cell = S2Cell(cellid)\n",
    "        vertices = []\n",
    "        for i in range(0, 4):\n",
    "            vertex = new_cell.GetVertex(i)\n",
    "            latlng = S2LatLng(vertex)\n",
    "            # shapely vertex order is (x, y) or (lon, lat)\n",
    "            vertices.append((latlng.lng().degrees(),\n",
    "                             latlng.lat().degrees()))\n",
    "        geo = Polygon(vertices)\n",
    "        geoms.append(geo)\n",
    "\n",
    "    print(\"Total S2 geometries = {}\".format(len(geoms)))\n",
    "\n",
    "    pc = ccrs.PlateCarree()\n",
    "    show_bbox = show_bbox.value if hasattr(show_bbox, \"value\") else show_bbox\n",
    "    if show_bbox:\n",
    "        ax.add_geometries([bbox], pc, facecolor=(0, 1, 0, .2), edgecolor=(0, 0, 0, 1))\n",
    "    ax.add_geometries(geoms, pc, facecolor='coral', edgecolor='black', alpha=0.4)\n",
    "    \n",
    "    plt.show()"
   ]
  },
  {
   "cell_type": "code",
   "execution_count": null,
   "metadata": {},
   "outputs": [],
   "source": [
    "def validate_min_level(*args):\n",
    "    if min_level.value > max_level.value:\n",
    "        min_level.value = args[0]['old']\n",
    "\n",
    "\n",
    "def validate_max_level(*args):\n",
    "    if max_level.value < min_level.value:\n",
    "        max_level.value = args[0]['old']\n",
    "\n",
    "\n",
    "min_level = IntSlider(min=0, max=30, step=1, value=4, continuous_update=False)\n",
    "max_level = IntSlider(min=0, max=30, step=1, value=18, continuous_update=False)\n",
    "max_cells = IntSlider(min=1, max=250, step=1, value=10, continuous_update=False)\n",
    "bbox = Checkbox(value=True, description=\"Show bbox\", disable=False, indent=False)\n",
    "\n",
    "min_level.observe(validate_min_level, \"value\")\n",
    "max_level.observe(validate_max_level, \"value\")\n",
    "\n",
    "plotter = interactive(plot, min_level=min_level,\n",
    "                      max_level=max_level,\n",
    "                      max_cells=max_cells,\n",
    "                      bbox=bbox)\n",
    "\n",
    "output = plotter.children[-1]\n",
    "output.layout.height = '500px'"
   ]
  },
  {
   "cell_type": "code",
   "execution_count": null,
   "metadata": {},
   "outputs": [],
   "source": [
    "plotter"
   ]
  }
 ],
 "metadata": {
  "kernelspec": {
   "display_name": "Python 3",
   "language": "python",
   "name": "python3"
  },
  "language_info": {
   "codemirror_mode": {
    "name": "ipython",
    "version": 3
   },
   "file_extension": ".py",
   "mimetype": "text/x-python",
   "name": "python",
   "nbconvert_exporter": "python",
   "pygments_lexer": "ipython3",
   "version": "3.6.9"
  }
 },
 "nbformat": 4,
 "nbformat_minor": 4
}
